{
 "cells": [
  {
   "cell_type": "code",
   "execution_count": 1,
   "metadata": {},
   "outputs": [
    {
     "name": "stderr",
     "output_type": "stream",
     "text": [
      "Using TensorFlow backend.\n"
     ]
    }
   ],
   "source": [
    "import pandas as pd\n",
    "import numpy as np\n",
    "import matplotlib.pyplot as plt\n",
    "import matplotlib.image as mpimg\n",
    "import seaborn as sns\n",
    "%matplotlib inline\n",
    "\n",
    "np.random.seed(2)\n",
    "\n",
    "from sklearn.model_selection import train_test_split\n",
    "from sklearn.metrics import confusion_matrix\n",
    "import itertools\n",
    "\n",
    "from keras.utils.np_utils import to_categorical # convert to one-hot-encoding\n",
    "from keras.models import Sequential\n",
    "from keras.layers import Dense, Dropout, Flatten, Conv2D, MaxPool2D\n",
    "from keras.optimizers import RMSprop\n",
    "from keras.preprocessing.image import ImageDataGenerator\n",
    "from keras.callbacks import ReduceLROnPlateau\n",
    "\n",
    "\n",
    "sns.set(style='white', context='notebook', palette='deep')"
   ]
  },
  {
   "cell_type": "code",
   "execution_count": 2,
   "metadata": {},
   "outputs": [],
   "source": [
    "# Load the data\n",
    "train = pd.read_csv(\"input_files/train.csv\")\n",
    "test = pd.read_csv(\"input_files/test.csv\")"
   ]
  },
  {
   "cell_type": "code",
   "execution_count": 3,
   "metadata": {},
   "outputs": [
    {
     "data": {
      "text/plain": [
       "1    4684\n",
       "7    4401\n",
       "3    4351\n",
       "9    4188\n",
       "2    4177\n",
       "6    4137\n",
       "0    4132\n",
       "4    4072\n",
       "8    4063\n",
       "5    3795\n",
       "Name: label, dtype: int64"
      ]
     },
     "execution_count": 3,
     "metadata": {},
     "output_type": "execute_result"
    },
    {
     "data": {
      "image/png": "[encoded data removed]",
      "text/plain": [
       "<matplotlib.figure.Figure at 0x104c20050>"
      ]
     },
     "metadata": {},
     "output_type": "display_data"
    }
   ],
   "source": [
    "Y_train = train[\"label\"]\n",
    "\n",
    "# Drop 'label' column\n",
    "X_train = train.drop(labels = [\"label\"],axis = 1) \n",
    "\n",
    "# free some space\n",
    "del train \n",
    "\n",
    "g = sns.countplot(Y_train)\n",
    "\n",
    "Y_train.value_counts()"
   ]
  },
  {
   "cell_type": "code",
   "execution_count": 4,
   "metadata": {},
   "outputs": [
    {
     "data": {
      "text/plain": [
       "count       784\n",
       "unique        1\n",
       "top       False\n",
       "freq        784\n",
       "dtype: object"
      ]
     },
     "execution_count": 4,
     "metadata": {},
     "output_type": "execute_result"
    }
   ],
   "source": [
    "# Check the data\n",
    "X_train.isnull().any().describe()"
   ]
  },
  {
   "cell_type": "code",
   "execution_count": 5,
   "metadata": {},
   "outputs": [
    {
     "data": {
      "text/plain": [
       "count       784\n",
       "unique        1\n",
       "top       False\n",
       "freq        784\n",
       "dtype: object"
      ]
     },
     "execution_count": 5,
     "metadata": {},
     "output_type": "execute_result"
    }
   ],
   "source": [
    "test.isnull().any().describe()"
   ]
  },
  {
   "cell_type": "code",
   "execution_count": 6,
   "metadata": {},
   "outputs": [],
   "source": [
    "# Normalize the data\n",
    "X_train = X_train / 255.0\n",
    "test = test / 255.0"
   ]
  },
  {
   "cell_type": "code",
   "execution_count": 7,
   "metadata": {},
   "outputs": [],
   "source": [
    "# Reshape image in 3 dimensions (height = 28px, width = 28px , canal = 1)\n",
    "X_train = X_train.values.reshape(-1,28,28,1)\n",
    "test = test.values.reshape(-1,28,28,1)"
   ]
  },
  {
   "cell_type": "code",
   "execution_count": 8,
   "metadata": {},
   "outputs": [],
   "source": [
    "# Encode labels to one hot vectors (ex : 2 -> [0,0,1,0,0,0,0,0,0,0])\n",
    "Y_train = to_categorical(Y_train, num_classes = 10)"
   ]
  },
  {
   "cell_type": "code",
   "execution_count": 9,
   "metadata": {},
   "outputs": [],
   "source": [
    "# Set the random seed\n",
    "random_seed = 2"
   ]
  },
  {
   "cell_type": "code",
   "execution_count": 10,
   "metadata": {},
   "outputs": [],
   "source": [
    "# Split the train and the validation set for the fitting\n",
    "X_train, X_val, Y_train, Y_val = train_test_split(X_train, Y_train, test_size = 0.1, random_state=random_seed)"
   ]
  },
  {
   "cell_type": "code",
   "execution_count": 16,
   "metadata": {},
   "outputs": [
    {
     "data": {
      "image/png": "[encoded data removed]",
      "text/plain": [
       "<matplotlib.figure.Figure at 0x10ec5c2d0>"
      ]
     },
     "metadata": {},
     "output_type": "display_data"
    }
   ],
   "source": [
    "# Some examples\n",
    "g = plt.imshow(X_train[0][:,:,0])"
   ]
  },
  {
   "cell_type": "code",
   "execution_count": 17,
   "metadata": {},
   "outputs": [],
   "source": [
    "# Set the CNN model \n",
    "# my CNN architechture is In -> [[Conv2D->relu]*2 -> MaxPool2D -> Dropout]*2 -> Flatten -> Dense -> Dropout -> Out\n",
    "\n",
    "model = Sequential()\n",
    "\n",
    "model.add(Conv2D(filters = 32, kernel_size = (5,5),padding = 'Same', \n",
    "                 activation ='relu', input_shape = (28,28,1)))\n",
    "model.add(Conv2D(filters = 32, kernel_size = (5,5),padding = 'Same', \n",
    "                 activation ='relu'))\n",
    "model.add(MaxPool2D(pool_size=(2,2)))\n",
    "model.add(Dropout(0.25))\n",
    "\n",
    "\n",
    "model.add(Conv2D(filters = 64, kernel_size = (3,3),padding = 'Same', \n",
    "                 activation ='relu'))\n",
    "model.add(Conv2D(filters = 64, kernel_size = (3,3),padding = 'Same', \n",
    "                 activation ='relu'))\n",
    "model.add(MaxPool2D(pool_size=(2,2), strides=(2,2)))\n",
    "model.add(Dropout(0.25))\n",
    "\n",
    "\n",
    "model.add(Flatten())\n",
    "model.add(Dense(256, activation = \"relu\"))\n",
    "model.add(Dropout(0.5))\n",
    "model.add(Dense(10, activation = \"softmax\"))"
   ]
  },
  {
   "cell_type": "code",
   "execution_count": 18,
   "metadata": {},
   "outputs": [],
   "source": [
    "# Define the optimizer\n",
    "optimizer = RMSprop(lr=0.001, rho=0.9, epsilon=1e-08, decay=0.0)"
   ]
  },
  {
   "cell_type": "code",
   "execution_count": 19,
   "metadata": {},
   "outputs": [],
   "source": [
    "# Compile the model\n",
    "model.compile(optimizer = optimizer , loss = \"categorical_crossentropy\", metrics=[\"accuracy\"])"
   ]
  },
  {
   "cell_type": "code",
   "execution_count": 20,
   "metadata": {},
   "outputs": [],
   "source": [
    "# Set a learning rate annealer\n",
    "learning_rate_reduction = ReduceLROnPlateau(monitor='val_acc', \n",
    "                                            patience=3, \n",
    "                                            verbose=1, \n",
    "                                            factor=0.5, \n",
    "                                            min_lr=0.00001)"
   ]
  },
  {
   "cell_type": "code",
   "execution_count": 21,
   "metadata": {},
   "outputs": [],
   "source": [
    "epochs = 30 # Turn epochs to 30 to get 0.9967 accuracy\n",
    "batch_size = 86"
   ]
  },
  {
   "cell_type": "code",
   "execution_count": 22,
   "metadata": {},
   "outputs": [
    {
     "name": "stdout",
     "output_type": "stream",
     "text": [
      "Train on 37800 samples, validate on 4200 samples\n",
      "Epoch 1/30\n",
      " - 555s - loss: 0.2409 - acc: 0.9225 - val_loss: 0.0818 - val_acc: 0.9738\n",
      "Epoch 2/30\n",
      " - 566s - loss: 0.0746 - acc: 0.9780 - val_loss: 0.0636 - val_acc: 0.9831\n",
      "Epoch 3/30\n",
      " - 596s - loss: 0.0575 - acc: 0.9834 - val_loss: 0.0464 - val_acc: 0.9890\n",
      "Epoch 4/30\n",
      " - 636s - loss: 0.0479 - acc: 0.9863 - val_loss: 0.0322 - val_acc: 0.9919\n",
      "Epoch 5/30\n",
      " - 705s - loss: 0.0423 - acc: 0.9868 - val_loss: 0.0367 - val_acc: 0.9895\n",
      "Epoch 6/30\n",
      " - 587s - loss: 0.0359 - acc: 0.9893 - val_loss: 0.0254 - val_acc: 0.9919\n",
      "Epoch 7/30\n",
      " - 504s - loss: 0.0344 - acc: 0.9899 - val_loss: 0.0304 - val_acc: 0.9910\n",
      "Epoch 8/30\n",
      " - 497s - loss: 0.0322 - acc: 0.9908 - val_loss: 0.0356 - val_acc: 0.9910\n",
      "Epoch 9/30\n",
      " - 498s - loss: 0.0304 - acc: 0.9909 - val_loss: 0.0283 - val_acc: 0.9917\n",
      "Epoch 10/30\n",
      " - 506s - loss: 0.0280 - acc: 0.9913 - val_loss: 0.0305 - val_acc: 0.9929\n",
      "Epoch 11/30\n",
      " - 559s - loss: 0.0307 - acc: 0.9913 - val_loss: 0.0333 - val_acc: 0.9929\n",
      "Epoch 12/30\n",
      " - 492s - loss: 0.0285 - acc: 0.9922 - val_loss: 0.0309 - val_acc: 0.9926\n",
      "Epoch 13/30\n",
      " - 491s - loss: 0.0290 - acc: 0.9910 - val_loss: 0.0349 - val_acc: 0.9926\n",
      "Epoch 14/30\n",
      " - 492s - loss: 0.0278 - acc: 0.9919 - val_loss: 0.0364 - val_acc: 0.9926\n",
      "Epoch 15/30\n",
      " - 490s - loss: 0.0295 - acc: 0.9920 - val_loss: 0.0335 - val_acc: 0.9921\n",
      "Epoch 16/30\n",
      " - 490s - loss: 0.0292 - acc: 0.9921 - val_loss: 0.0368 - val_acc: 0.9905\n",
      "Epoch 17/30\n",
      " - 496s - loss: 0.0278 - acc: 0.9922 - val_loss: 0.0262 - val_acc: 0.9926\n",
      "Epoch 18/30\n",
      " - 491s - loss: 0.0286 - acc: 0.9925 - val_loss: 0.0287 - val_acc: 0.9931\n",
      "Epoch 19/30\n",
      " - 491s - loss: 0.0281 - acc: 0.9924 - val_loss: 0.0446 - val_acc: 0.9924\n",
      "Epoch 20/30\n",
      " - 491s - loss: 0.0300 - acc: 0.9925 - val_loss: 0.0274 - val_acc: 0.9929\n",
      "Epoch 21/30\n",
      " - 502s - loss: 0.0285 - acc: 0.9925 - val_loss: 0.0353 - val_acc: 0.9938\n",
      "Epoch 22/30\n",
      " - 495s - loss: 0.0321 - acc: 0.9917 - val_loss: 0.0455 - val_acc: 0.9917\n",
      "Epoch 23/30\n",
      " - 518s - loss: 0.0310 - acc: 0.9924 - val_loss: 0.0347 - val_acc: 0.9921\n",
      "Epoch 24/30\n",
      " - 544s - loss: 0.0323 - acc: 0.9920 - val_loss: 0.0426 - val_acc: 0.9905\n",
      "Epoch 25/30\n",
      " - 567s - loss: 0.0324 - acc: 0.9921 - val_loss: 0.0297 - val_acc: 0.9921\n",
      "Epoch 26/30\n",
      " - 601s - loss: 0.0325 - acc: 0.9920 - val_loss: 0.0289 - val_acc: 0.9919\n",
      "Epoch 27/30\n",
      " - 655s - loss: 0.0357 - acc: 0.9919 - val_loss: 0.0312 - val_acc: 0.9926\n",
      "Epoch 28/30\n",
      " - 830s - loss: 0.0342 - acc: 0.9906 - val_loss: 0.0289 - val_acc: 0.9921\n",
      "Epoch 29/30\n",
      " - 601s - loss: 0.0329 - acc: 0.9916 - val_loss: 0.0660 - val_acc: 0.9883\n",
      "Epoch 30/30\n",
      " - 571s - loss: 0.0359 - acc: 0.9914 - val_loss: 0.0566 - val_acc: 0.9907\n"
     ]
    }
   ],
   "source": [
    "# Without data augmentation i obtained an accuracy of 0.98114\n",
    "history = model.fit(X_train, Y_train, batch_size = batch_size, epochs = epochs, \n",
    "         validation_data = (X_val, Y_val), verbose = 2)"
   ]
  },
  {
   "cell_type": "code",
   "execution_count": 23,
   "metadata": {},
   "outputs": [],
   "source": [
    "# With data augmentation to prevent overfitting (accuracy 0.99286)\n",
    "\n",
    "datagen = ImageDataGenerator(\n",
    "        featurewise_center=False,  # set input mean to 0 over the dataset\n",
    "        samplewise_center=False,  # set each sample mean to 0\n",
    "        featurewise_std_normalization=False,  # divide inputs by std of the dataset\n",
    "        samplewise_std_normalization=False,  # divide each input by its std\n",
    "        zca_whitening=False,  # apply ZCA whitening\n",
    "        rotation_range=10,  # randomly rotate images in the range (degrees, 0 to 180)\n",
    "        zoom_range = 0.1, # Randomly zoom image \n",
    "        width_shift_range=0.1,  # randomly shift images horizontally (fraction of total width)\n",
    "        height_shift_range=0.1,  # randomly shift images vertically (fraction of total height)\n",
    "        horizontal_flip=False,  # randomly flip images\n",
    "        vertical_flip=False)  # randomly flip images\n",
    "\n",
    "\n",
    "datagen.fit(X_train)"
   ]
  },
  {
   "cell_type": "code",
   "execution_count": 24,
   "metadata": {},
   "outputs": [
    {
     "name": "stdout",
     "output_type": "stream",
     "text": [
      "Epoch 1/30\n",
      " - 565s - loss: 0.1905 - acc: 0.9511 - val_loss: 0.0325 - val_acc: 0.9881\n",
      "Epoch 2/30\n",
      " - 507s - loss: 0.1421 - acc: 0.9619 - val_loss: 0.0288 - val_acc: 0.9919\n",
      "Epoch 3/30\n",
      " - 506s - loss: 0.1242 - acc: 0.9658 - val_loss: 0.0313 - val_acc: 0.9907\n",
      "Epoch 4/30\n",
      " - 501s - loss: 0.1193 - acc: 0.9686 - val_loss: 0.0257 - val_acc: 0.9924\n",
      "Epoch 5/30\n",
      " - 498s - loss: 0.1137 - acc: 0.9688 - val_loss: 0.0373 - val_acc: 0.9898\n",
      "Epoch 6/30\n",
      " - 513s - loss: 0.1100 - acc: 0.9705 - val_loss: 0.0300 - val_acc: 0.9921\n",
      "Epoch 7/30\n",
      " - 525s - loss: 0.1101 - acc: 0.9717 - val_loss: 0.0280 - val_acc: 0.9912\n",
      "Epoch 8/30\n",
      "\n",
      "Epoch 00008: reducing learning rate to 0.000500000023749.\n",
      " - 526s - loss: 0.1055 - acc: 0.9717 - val_loss: 0.0334 - val_acc: 0.9921\n",
      "Epoch 9/30\n",
      " - 527s - loss: 0.0852 - acc: 0.9774 - val_loss: 0.0380 - val_acc: 0.9895\n",
      "Epoch 10/30\n",
      " - 531s - loss: 0.0839 - acc: 0.9771 - val_loss: 0.0285 - val_acc: 0.9926\n",
      "Epoch 11/30\n",
      " - 526s - loss: 0.0895 - acc: 0.9762 - val_loss: 0.0335 - val_acc: 0.9910\n",
      "Epoch 12/30\n",
      " - 511s - loss: 0.0780 - acc: 0.9786 - val_loss: 0.0231 - val_acc: 0.9921\n",
      "Epoch 13/30\n",
      " - 496s - loss: 0.0805 - acc: 0.9783 - val_loss: 0.0215 - val_acc: 0.9933\n",
      "Epoch 14/30\n",
      " - 498s - loss: 0.0810 - acc: 0.9787 - val_loss: 0.0363 - val_acc: 0.9921\n",
      "Epoch 15/30\n",
      " - 494s - loss: 0.0770 - acc: 0.9782 - val_loss: 0.0313 - val_acc: 0.9919\n",
      "Epoch 16/30\n",
      " - 498s - loss: 0.0825 - acc: 0.9784 - val_loss: 0.0250 - val_acc: 0.9919\n",
      "Epoch 17/30\n",
      "\n",
      "Epoch 00017: reducing learning rate to 0.000250000011874.\n",
      " - 504s - loss: 0.0832 - acc: 0.9792 - val_loss: 0.0387 - val_acc: 0.9931\n",
      "Epoch 18/30\n",
      " - 494s - loss: 0.0682 - acc: 0.9811 - val_loss: 0.0233 - val_acc: 0.9929\n",
      "Epoch 19/30\n",
      " - 511s - loss: 0.0636 - acc: 0.9823 - val_loss: 0.0260 - val_acc: 0.9926\n",
      "Epoch 20/30\n",
      " - 528s - loss: 0.0703 - acc: 0.9808 - val_loss: 0.0205 - val_acc: 0.9936\n",
      "Epoch 21/30\n",
      " - 545s - loss: 0.0674 - acc: 0.9811 - val_loss: 0.0238 - val_acc: 0.9940\n",
      "Epoch 22/30\n",
      " - 566s - loss: 0.0688 - acc: 0.9805 - val_loss: 0.0218 - val_acc: 0.9931\n",
      "Epoch 23/30\n",
      " - 587s - loss: 0.0645 - acc: 0.9816 - val_loss: 0.0227 - val_acc: 0.9929\n",
      "Epoch 24/30\n",
      " - 634s - loss: 0.0656 - acc: 0.9812 - val_loss: 0.0237 - val_acc: 0.9950\n",
      "Epoch 25/30\n",
      " - 806s - loss: 0.0665 - acc: 0.9815 - val_loss: 0.0291 - val_acc: 0.9936\n",
      "Epoch 26/30\n",
      " - 496s - loss: 0.0684 - acc: 0.9817 - val_loss: 0.0200 - val_acc: 0.9940\n",
      "Epoch 27/30\n",
      " - 499s - loss: 0.0703 - acc: 0.9811 - val_loss: 0.0266 - val_acc: 0.9926\n",
      "Epoch 28/30\n",
      "\n",
      "Epoch 00028: reducing learning rate to 0.000125000005937.\n",
      " - 493s - loss: 0.0679 - acc: 0.9816 - val_loss: 0.0208 - val_acc: 0.9936\n",
      "Epoch 29/30\n",
      " - 523s - loss: 0.0602 - acc: 0.9833 - val_loss: 0.0234 - val_acc: 0.9940\n",
      "Epoch 30/30\n",
      " - 589s - loss: 0.0584 - acc: 0.9839 - val_loss: 0.0223 - val_acc: 0.9945\n"
     ]
    }
   ],
   "source": [
    "# Fit the model\n",
    "history = model.fit_generator(datagen.flow(X_train,Y_train, batch_size=batch_size),\n",
    "                              epochs = epochs, validation_data = (X_val,Y_val),\n",
    "                              verbose = 2, steps_per_epoch=X_train.shape[0] // batch_size\n",
    "                              , callbacks=[learning_rate_reduction])"
   ]
  },
  {
   "cell_type": "code",
   "execution_count": 25,
   "metadata": {},
   "outputs": [
    {
     "data": {
      "image/png": "[encoded data removed]",
      "text/plain": [
       "<matplotlib.figure.Figure at 0x116565b90>"
      ]
     },
     "metadata": {},
     "output_type": "display_data"
    }
   ],
   "source": [
    "# Plot the loss and accuracy curves for training and validation \n",
    "fig, ax = plt.subplots(2,1)\n",
    "ax[0].plot(history.history['loss'], color='b', label=\"Training loss\")\n",
    "ax[0].plot(history.history['val_loss'], color='r', label=\"validation loss\",axes =ax[0])\n",
    "legend = ax[0].legend(loc='best', shadow=True)\n",
    "\n",
    "ax[1].plot(history.history['acc'], color='b', label=\"Training accuracy\")\n",
    "ax[1].plot(history.history['val_acc'], color='r',label=\"Validation accuracy\")\n",
    "legend = ax[1].legend(loc='best', shadow=True)"
   ]
  },
  {
   "cell_type": "code",
   "execution_count": 26,
   "metadata": {},
   "outputs": [
    {
     "data": {
      "image/png": "[encoded data removed]",
      "text/plain": [
       "<matplotlib.figure.Figure at 0x10c70aa50>"
      ]
     },
     "metadata": {},
     "output_type": "display_data"
    }
   ],
   "source": [
    "# Look at confusion matrix \n",
    "\n",
    "def plot_confusion_matrix(cm, classes,\n",
    "                          normalize=False,\n",
    "                          title='Confusion matrix',\n",
    "                          cmap=plt.cm.Blues):\n",
    "    \"\"\"\n",
    "    This function prints and plots the confusion matrix.\n",
    "    Normalization can be applied by setting `normalize=True`.\n",
    "    \"\"\"\n",
    "    plt.imshow(cm, interpolation='nearest', cmap=cmap)\n",
    "    plt.title(title)\n",
    "    plt.colorbar()\n",
    "    tick_marks = np.arange(len(classes))\n",
    "    plt.xticks(tick_marks, classes, rotation=45)\n",
    "    plt.yticks(tick_marks, classes)\n",
    "\n",
    "    if normalize:\n",
    "        cm = cm.astype('float') / cm.sum(axis=1)[:, np.newaxis]\n",
    "\n",
    "    thresh = cm.max() / 2.\n",
    "    for i, j in itertools.product(range(cm.shape[0]), range(cm.shape[1])):\n",
    "        plt.text(j, i, cm[i, j],\n",
    "                 horizontalalignment=\"center\",\n",
    "                 color=\"white\" if cm[i, j] > thresh else \"black\")\n",
    "\n",
    "    plt.tight_layout()\n",
    "    plt.ylabel('True label')\n",
    "    plt.xlabel('Predicted label')\n",
    "\n",
    "# Predict the values from the validation dataset\n",
    "Y_pred = model.predict(X_val)\n",
    "# Convert predictions classes to one hot vectors \n",
    "Y_pred_classes = np.argmax(Y_pred,axis = 1) \n",
    "# Convert validation observations to one hot vectors\n",
    "Y_true = np.argmax(Y_val,axis = 1) \n",
    "# compute the confusion matrix\n",
    "confusion_mtx = confusion_matrix(Y_true, Y_pred_classes) \n",
    "# plot the confusion matrix\n",
    "plot_confusion_matrix(confusion_mtx, classes = range(10)) "
   ]
  },
  {
   "cell_type": "code",
   "execution_count": 27,
   "metadata": {},
   "outputs": [
    {
     "data": {
      "image/png": "[encoded data removed]",
      "text/plain": [
       "<matplotlib.figure.Figure at 0x1163e9c10>"
      ]
     },
     "metadata": {},
     "output_type": "display_data"
    }
   ],
   "source": [
    "# Display some error results \n",
    "\n",
    "# Errors are difference between predicted labels and true labels\n",
    "errors = (Y_pred_classes - Y_true != 0)\n",
    "\n",
    "Y_pred_classes_errors = Y_pred_classes[errors]\n",
    "Y_pred_errors = Y_pred[errors]\n",
    "Y_true_errors = Y_true[errors]\n",
    "X_val_errors = X_val[errors]\n",
    "\n",
    "def display_errors(errors_index,img_errors,pred_errors, obs_errors):\n",
    "    \"\"\" This function shows 6 images with their predicted and real labels\"\"\"\n",
    "    n = 0\n",
    "    nrows = 2\n",
    "    ncols = 3\n",
    "    fig, ax = plt.subplots(nrows,ncols,sharex=True,sharey=True)\n",
    "    for row in range(nrows):\n",
    "        for col in range(ncols):\n",
    "            error = errors_index[n]\n",
    "            ax[row,col].imshow((img_errors[error]).reshape((28,28)))\n",
    "            ax[row,col].set_title(\"Predicted label :{}\\nTrue label :{}\".format(pred_errors[error],obs_errors[error]))\n",
    "            n += 1\n",
    "\n",
    "# Probabilities of the wrong predicted numbers\n",
    "Y_pred_errors_prob = np.max(Y_pred_errors,axis = 1)\n",
    "\n",
    "# Predicted probabilities of the true values in the error set\n",
    "true_prob_errors = np.diagonal(np.take(Y_pred_errors, Y_true_errors, axis=1))\n",
    "\n",
    "# Difference between the probability of the predicted label and the true label\n",
    "delta_pred_true_errors = Y_pred_errors_prob - true_prob_errors\n",
    "\n",
    "# Sorted list of the delta prob errors\n",
    "sorted_dela_errors = np.argsort(delta_pred_true_errors)\n",
    "\n",
    "# Top 6 errors \n",
    "most_important_errors = sorted_dela_errors[-6:]\n",
    "\n",
    "# Show the top 6 errors\n",
    "display_errors(most_important_errors, X_val_errors, Y_pred_classes_errors, Y_true_errors)"
   ]
  },
  {
   "cell_type": "code",
   "execution_count": 28,
   "metadata": {},
   "outputs": [],
   "source": [
    "# predict results\n",
    "results = model.predict(test)\n",
    "\n",
    "# select the indix with the maximum probability\n",
    "results = np.argmax(results,axis = 1)\n",
    "\n",
    "results = pd.Series(results,name=\"Label\")"
   ]
  },
  {
   "cell_type": "code",
   "execution_count": 29,
   "metadata": {},
   "outputs": [],
   "source": [
    "submission = pd.concat([pd.Series(range(1,28001),name = \"ImageId\"),results],axis = 1)\n",
    "\n",
    "submission.to_csv(\"predicted_output.csv\",index=False)"
   ]
  },
  {
   "cell_type": "code",
   "execution_count": null,
   "metadata": {},
   "outputs": [],
   "source": []
  }
 ],
 "metadata": {
  "kernelspec": {
   "display_name": "Python 2",
   "language": "python",
   "name": "python2"
  },
  "language_info": {
   "codemirror_mode": {
    "name": "ipython",
    "version": 2
   },
   "file_extension": ".py",
   "mimetype": "text/x-python",
   "name": "python",
   "nbconvert_exporter": "python",
   "pygments_lexer": "ipython2",
   "version": "2.7.13"
  }
 },
 "nbformat": 4,
 "nbformat_minor": 2
}
